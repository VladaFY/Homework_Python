{
 "cells": [
  {
   "cell_type": "code",
   "execution_count": 2,
   "id": "e8cbd3ad-a018-482e-ad9c-c646846d8095",
   "metadata": {},
   "outputs": [],
   "source": [
    "import pandas as pd"
   ]
  },
  {
   "cell_type": "code",
   "execution_count": 7,
   "id": "426a00dd-f678-4cc5-a627-7bbda4af4a8e",
   "metadata": {},
   "outputs": [
    {
     "data": {
      "text/html": [
       "<div>\n",
       "<style scoped>\n",
       "    .dataframe tbody tr th:only-of-type {\n",
       "        vertical-align: middle;\n",
       "    }\n",
       "\n",
       "    .dataframe tbody tr th {\n",
       "        vertical-align: top;\n",
       "    }\n",
       "\n",
       "    .dataframe thead th {\n",
       "        text-align: right;\n",
       "    }\n",
       "</style>\n",
       "<table border=\"1\" class=\"dataframe\">\n",
       "  <thead>\n",
       "    <tr style=\"text-align: right;\">\n",
       "      <th></th>\n",
       "      <th>City</th>\n",
       "      <th>Edition</th>\n",
       "      <th>Sport</th>\n",
       "      <th>Discipline</th>\n",
       "      <th>Athlete</th>\n",
       "      <th>NOC</th>\n",
       "      <th>Gender</th>\n",
       "      <th>Event</th>\n",
       "      <th>Event_gender</th>\n",
       "      <th>Medal</th>\n",
       "    </tr>\n",
       "  </thead>\n",
       "  <tbody>\n",
       "    <tr>\n",
       "      <th>0</th>\n",
       "      <td>Athens</td>\n",
       "      <td>1896</td>\n",
       "      <td>Aquatics</td>\n",
       "      <td>Swimming</td>\n",
       "      <td>HAJOS, Alfred</td>\n",
       "      <td>HUN</td>\n",
       "      <td>Men</td>\n",
       "      <td>100m freestyle</td>\n",
       "      <td>M</td>\n",
       "      <td>Gold</td>\n",
       "    </tr>\n",
       "    <tr>\n",
       "      <th>1</th>\n",
       "      <td>Athens</td>\n",
       "      <td>1896</td>\n",
       "      <td>Aquatics</td>\n",
       "      <td>Swimming</td>\n",
       "      <td>HERSCHMANN, Otto</td>\n",
       "      <td>AUT</td>\n",
       "      <td>Men</td>\n",
       "      <td>100m freestyle</td>\n",
       "      <td>M</td>\n",
       "      <td>Silver</td>\n",
       "    </tr>\n",
       "    <tr>\n",
       "      <th>2</th>\n",
       "      <td>Athens</td>\n",
       "      <td>1896</td>\n",
       "      <td>Aquatics</td>\n",
       "      <td>Swimming</td>\n",
       "      <td>DRIVAS, Dimitrios</td>\n",
       "      <td>GRE</td>\n",
       "      <td>Men</td>\n",
       "      <td>100m freestyle for sailors</td>\n",
       "      <td>M</td>\n",
       "      <td>Bronze</td>\n",
       "    </tr>\n",
       "    <tr>\n",
       "      <th>3</th>\n",
       "      <td>Athens</td>\n",
       "      <td>1896</td>\n",
       "      <td>Aquatics</td>\n",
       "      <td>Swimming</td>\n",
       "      <td>MALOKINIS, Ioannis</td>\n",
       "      <td>GRE</td>\n",
       "      <td>Men</td>\n",
       "      <td>100m freestyle for sailors</td>\n",
       "      <td>M</td>\n",
       "      <td>Gold</td>\n",
       "    </tr>\n",
       "    <tr>\n",
       "      <th>4</th>\n",
       "      <td>Athens</td>\n",
       "      <td>1896</td>\n",
       "      <td>Aquatics</td>\n",
       "      <td>Swimming</td>\n",
       "      <td>CHASAPIS, Spiridon</td>\n",
       "      <td>GRE</td>\n",
       "      <td>Men</td>\n",
       "      <td>100m freestyle for sailors</td>\n",
       "      <td>M</td>\n",
       "      <td>Silver</td>\n",
       "    </tr>\n",
       "    <tr>\n",
       "      <th>...</th>\n",
       "      <td>...</td>\n",
       "      <td>...</td>\n",
       "      <td>...</td>\n",
       "      <td>...</td>\n",
       "      <td>...</td>\n",
       "      <td>...</td>\n",
       "      <td>...</td>\n",
       "      <td>...</td>\n",
       "      <td>...</td>\n",
       "      <td>...</td>\n",
       "    </tr>\n",
       "    <tr>\n",
       "      <th>29211</th>\n",
       "      <td>Beijing</td>\n",
       "      <td>2008</td>\n",
       "      <td>Wrestling</td>\n",
       "      <td>Wrestling Gre-R</td>\n",
       "      <td>ENGLICH, Mirko</td>\n",
       "      <td>GER</td>\n",
       "      <td>Men</td>\n",
       "      <td>84 - 96kg</td>\n",
       "      <td>M</td>\n",
       "      <td>Silver</td>\n",
       "    </tr>\n",
       "    <tr>\n",
       "      <th>29212</th>\n",
       "      <td>Beijing</td>\n",
       "      <td>2008</td>\n",
       "      <td>Wrestling</td>\n",
       "      <td>Wrestling Gre-R</td>\n",
       "      <td>MIZGAITIS, Mindaugas</td>\n",
       "      <td>LTU</td>\n",
       "      <td>Men</td>\n",
       "      <td>96 - 120kg</td>\n",
       "      <td>M</td>\n",
       "      <td>Bronze</td>\n",
       "    </tr>\n",
       "    <tr>\n",
       "      <th>29213</th>\n",
       "      <td>Beijing</td>\n",
       "      <td>2008</td>\n",
       "      <td>Wrestling</td>\n",
       "      <td>Wrestling Gre-R</td>\n",
       "      <td>PATRIKEEV, Yuri</td>\n",
       "      <td>ARM</td>\n",
       "      <td>Men</td>\n",
       "      <td>96 - 120kg</td>\n",
       "      <td>M</td>\n",
       "      <td>Bronze</td>\n",
       "    </tr>\n",
       "    <tr>\n",
       "      <th>29214</th>\n",
       "      <td>Beijing</td>\n",
       "      <td>2008</td>\n",
       "      <td>Wrestling</td>\n",
       "      <td>Wrestling Gre-R</td>\n",
       "      <td>LOPEZ, Mijain</td>\n",
       "      <td>CUB</td>\n",
       "      <td>Men</td>\n",
       "      <td>96 - 120kg</td>\n",
       "      <td>M</td>\n",
       "      <td>Gold</td>\n",
       "    </tr>\n",
       "    <tr>\n",
       "      <th>29215</th>\n",
       "      <td>Beijing</td>\n",
       "      <td>2008</td>\n",
       "      <td>Wrestling</td>\n",
       "      <td>Wrestling Gre-R</td>\n",
       "      <td>BAROEV, Khasan</td>\n",
       "      <td>RUS</td>\n",
       "      <td>Men</td>\n",
       "      <td>96 - 120kg</td>\n",
       "      <td>M</td>\n",
       "      <td>Silver</td>\n",
       "    </tr>\n",
       "  </tbody>\n",
       "</table>\n",
       "<p>29216 rows × 10 columns</p>\n",
       "</div>"
      ],
      "text/plain": [
       "          City  Edition      Sport       Discipline               Athlete  \\\n",
       "0       Athens     1896   Aquatics         Swimming         HAJOS, Alfred   \n",
       "1       Athens     1896   Aquatics         Swimming      HERSCHMANN, Otto   \n",
       "2       Athens     1896   Aquatics         Swimming     DRIVAS, Dimitrios   \n",
       "3       Athens     1896   Aquatics         Swimming    MALOKINIS, Ioannis   \n",
       "4       Athens     1896   Aquatics         Swimming    CHASAPIS, Spiridon   \n",
       "...        ...      ...        ...              ...                   ...   \n",
       "29211  Beijing     2008  Wrestling  Wrestling Gre-R        ENGLICH, Mirko   \n",
       "29212  Beijing     2008  Wrestling  Wrestling Gre-R  MIZGAITIS, Mindaugas   \n",
       "29213  Beijing     2008  Wrestling  Wrestling Gre-R       PATRIKEEV, Yuri   \n",
       "29214  Beijing     2008  Wrestling  Wrestling Gre-R         LOPEZ, Mijain   \n",
       "29215  Beijing     2008  Wrestling  Wrestling Gre-R        BAROEV, Khasan   \n",
       "\n",
       "       NOC Gender                       Event Event_gender   Medal  \n",
       "0      HUN    Men              100m freestyle            M    Gold  \n",
       "1      AUT    Men              100m freestyle            M  Silver  \n",
       "2      GRE    Men  100m freestyle for sailors            M  Bronze  \n",
       "3      GRE    Men  100m freestyle for sailors            M    Gold  \n",
       "4      GRE    Men  100m freestyle for sailors            M  Silver  \n",
       "...    ...    ...                         ...          ...     ...  \n",
       "29211  GER    Men                   84 - 96kg            M  Silver  \n",
       "29212  LTU    Men                  96 - 120kg            M  Bronze  \n",
       "29213  ARM    Men                  96 - 120kg            M  Bronze  \n",
       "29214  CUB    Men                  96 - 120kg            M    Gold  \n",
       "29215  RUS    Men                  96 - 120kg            M  Silver  \n",
       "\n",
       "[29216 rows x 10 columns]"
      ]
     },
     "execution_count": 7,
     "metadata": {},
     "output_type": "execute_result"
    }
   ],
   "source": [
    "df = pd.read_csv('olympics.csv')"
   ]
  },
  {
   "cell_type": "code",
   "execution_count": 8,
   "id": "0084005d-5266-4bd1-9419-ca19544f8214",
   "metadata": {},
   "outputs": [
    {
     "name": "stdout",
     "output_type": "stream",
     "text": [
      "Jesse Owens выиграл медаль на дистанции: 100m\n"
     ]
    }
   ],
   "source": [
    "# На какой дистанции Jesse Owens выиграл медаль?\n",
    "\n",
    "jesse_owens_event = df[df['Athlete'] == 'OWENS, Jesse']['Event'].values[0]\n",
    "print(f\"Jesse Owens выиграл медаль на дистанции: {jesse_owens_event}\")"
   ]
  },
  {
   "cell_type": "code",
   "execution_count": 9,
   "id": "c345285f-b643-453d-9996-d4e9c6241e61",
   "metadata": {},
   "outputs": [
    {
     "name": "stdout",
     "output_type": "stream",
     "text": [
      "Мужчины из страны INA выиграли большинство золотых медалей в бадминтоне:\n",
      "            City  Edition      Sport Discipline                Athlete  NOC  \\\n",
      "20045  Barcelona     1992  Badminton  Badminton      BUDI KUSUMA, Alan  INA   \n",
      "23701     Sydney     2000  Badminton  Badminton          GUNAWAN, Tony  INA   \n",
      "25734     Athens     2004  Badminton  Badminton        HIDAYAT, Taufik  INA   \n",
      "27725    Beijing     2008  Badminton  Badminton           KIDO, Markis  INA   \n",
      "21771    Atlanta     1996  Badminton  Badminton   MAINAKY, Rexy Ronald  INA   \n",
      "27726    Beijing     2008  Badminton  Badminton       SETIAWAN, Hendra  INA   \n",
      "21772    Atlanta     1996  Badminton  Badminton  SUBAGJA, Ricky Achmad  INA   \n",
      "23702     Sydney     2000  Badminton  Badminton         WIJAYA, Candra  INA   \n",
      "\n",
      "      Gender    Event Event_gender Medal  \n",
      "20045    Men  singles            M  Gold  \n",
      "23701    Men  doubles            M  Gold  \n",
      "25734    Men  singles            M  Gold  \n",
      "27725    Men  doubles            M  Gold  \n",
      "21771    Men  doubles            M  Gold  \n",
      "27726    Men  doubles            M  Gold  \n",
      "21772    Men  doubles            M  Gold  \n",
      "23702    Men  doubles            M  Gold  \n"
     ]
    }
   ],
   "source": [
    "# Мужчины какой страны взяли большинство золотых медалей в бадминтоне?\n",
    "\n",
    "badminton_gold = df[(df['Sport'] == 'Badminton') & (df['Gender'] == 'Men') & (df['Medal'] == 'Gold')]\n",
    "country_most_gold_badminton = badminton_gold['NOC'].value_counts().idxmax()\n",
    "sorted_badminton_gold = badminton_gold[badminton_gold['NOC'] == country_most_gold_badminton].sort_values(by='Athlete')\n",
    "print(f\"Мужчины из страны {country_most_gold_badminton} выиграли большинство золотых медалей в бадминтоне:\")\n",
    "print(sorted_badminton_gold)"
   ]
  },
  {
   "cell_type": "code",
   "execution_count": 11,
   "id": "173a519f-b408-498b-a1bb-59a778c39627",
   "metadata": {},
   "outputs": [
    {
     "name": "stdout",
     "output_type": "stream",
     "text": [
      "Три страны с наибольшим количеством медалей с 1984 по 2008 годы:\n",
      "NOC\n",
      "USA    1837\n",
      "AUS     762\n",
      "GER     691\n",
      "Name: count, dtype: int64\n"
     ]
    }
   ],
   "source": [
    "# Какие три страны получили наибольшее количество медалей в последние годы (с 1984 по 2008)?\n",
    "\n",
    "top_countries = df[(df['Edition'] >= 1984) & (df['Edition'] <= 2008)]['NOC'].value_counts().head(3)\n",
    "print(\"Три страны с наибольшим количеством медалей с 1984 по 2008 годы:\")\n",
    "print(top_countries)"
   ]
  },
  {
   "cell_type": "code",
   "execution_count": 13,
   "id": "f48f391a-80ff-4e2b-b0bf-c62c882b8a90",
   "metadata": {},
   "outputs": [
    {
     "name": "stdout",
     "output_type": "stream",
     "text": [
      "Мужчины-золотые медалисты по 100m:\n",
      "                        City  Edition                Athlete  NOC\n",
      "27552                Beijing     2008            BOLT, Usain  JAM\n",
      "25539                 Athens     2004         GATLIN, Justin  USA\n",
      "23521                 Sydney     2000        GREENE, Maurice  USA\n",
      "21598                Atlanta     1996        BAILEY, Donovan  CAN\n",
      "19859              Barcelona     1992      CHRISTIE, Linford  GBR\n",
      "18284                  Seoul     1988            LEWIS, Carl  USA\n",
      "16794            Los Angeles     1984            LEWIS, Carl  USA\n",
      "15374                 Moscow     1980           WELLS, Allan  GBR\n",
      "14069               Montreal     1976       CRAWFORD, Hasely  TRI\n",
      "12902                 Munich     1972         BORZOV, Valery  URS\n",
      "11865                 Mexico     1968       HINES, James Ray  USA\n",
      "10823                  Tokyo     1964          HAYES, Robert  USA\n",
      "9924                    Rome     1960            HARY, Armin  EUA\n",
      "9009   Melbourne / Stockholm     1956  MORROW, Robert Joseph  USA\n",
      "8121                Helsinki     1952        REMIGINO, Lindy  USA\n",
      "7302                  London     1948      DILLARD, Harrison  USA\n",
      "6427                  Berlin     1936           OWENS, Jesse  USA\n",
      "5806             Los Angeles     1932           TOLAN, Eddie  USA\n",
      "5095               Amsterdam     1928        WILLIAMS, Percy  CAN\n",
      "4236                   Paris     1924       ABRAHAMS, Harold  GBR\n",
      "2996                 Antwerp     1920       PADDOCK, Charles  USA\n",
      "2022               Stockholm     1912           CRAIG, Ralph  USA\n",
      "1191                  London     1908       WALKER, Reginald  RSA\n",
      "737                 St Louis     1904           HAHN, Archie  USA\n",
      "231                    Paris     1900        JARVIS, Francis  USA\n",
      "13                    Athens     1896          BURKE, Thomas  USA\n"
     ]
    }
   ],
   "source": [
    "# Найдите мужчин - золотых медалистов по 100m\n",
    "\n",
    "mens_100m_gold = df[(df['Event'] == '100m') & (df['Gender'] == 'Men') & (df['Medal'] == 'Gold')]\n",
    "mens_100m_gold = mens_100m_gold.sort_values(by='Edition', ascending=False)\n",
    "print(\"Мужчины-золотые медалисты по 100m:\")\n",
    "print(mens_100m_gold[['City', 'Edition', 'Athlete', 'NOC']])"
   ]
  },
  {
   "cell_type": "code",
   "execution_count": 15,
   "id": "f148c0f2-328d-42f5-9d24-1484730ff5df",
   "metadata": {},
   "outputs": [
    {
     "data": {
      "image/png": "[encoded data removed]",
      "text/plain": [
       "<Figure size 640x480 with 1 Axes>"
      ]
     },
     "metadata": {},
     "output_type": "display_data"
    }
   ],
   "source": [
    "# Используя groupby(), постройте график - число всех медалей, выигранных на каждой Олимпиаде\n",
    "\n",
    "import matplotlib.pyplot as plt\n",
    "df.groupby('Edition').size().plot(kind='bar')\n",
    "plt.title('Число всех медалей, выигранных на каждой Олимпиаде')\n",
    "plt.xlabel('Год')\n",
    "plt.ylabel('Количество медалей')\n",
    "plt.show()"
   ]
  },
  {
   "cell_type": "code",
   "execution_count": 17,
   "id": "5784ff87-ca82-40d3-a92f-0b1c2ed43135",
   "metadata": {},
   "outputs": [
    {
     "name": "stdout",
     "output_type": "stream",
     "text": [
      "     NOC  Total Medals  First Medal Year  Last Medal Year\n",
      "0    AFG             1               NaN              NaN\n",
      "1    AHO             1               NaN              NaN\n",
      "2    ALG            14               NaN              NaN\n",
      "3    ANZ            29               NaN              NaN\n",
      "4    ARG           239               NaN              NaN\n",
      "..   ...           ...               ...              ...\n",
      "133  VIE             2               NaN              NaN\n",
      "134  YUG           435               NaN              NaN\n",
      "135  ZAM             2               NaN              NaN\n",
      "136  ZIM            23               NaN              NaN\n",
      "137  ZZX            48               NaN              NaN\n",
      "\n",
      "[138 rows x 4 columns]\n"
     ]
    }
   ],
   "source": [
    "# Создайте список, показывающий число всех медалей, полученных каждой страной в течение всей истории Олимпийских игр\n",
    "\n",
    "medals_by_country = df.groupby('NOC').size()\n",
    "medals_by_country = medals_by_country.reset_index(name='Total Medals')\n",
    "first_medal_year = df.groupby('NOC')['Edition'].min()\n",
    "last_medal_year = df.groupby('NOC')['Edition'].max()\n",
    "medals_by_country['First Medal Year'] = first_medal_year\n",
    "medals_by_country['Last Medal Year'] = last_medal_year\n",
    "print(medals_by_country)"
   ]
  },
  {
   "cell_type": "code",
   "execution_count": 19,
   "id": "9a31464e-967e-485f-8332-53819fc270d5",
   "metadata": {},
   "outputs": [
    {
     "data": {
      "text/plain": [
       "Text(0.5, 1.0, 'Число золотых медалей в атлетике для мужчин и женщин из США в атлетике')"
      ]
     },
     "execution_count": 19,
     "metadata": {},
     "output_type": "execute_result"
    },
    {
     "data": {
      "image/png": "[encoded data removed]",
      "text/plain": [
       "<Figure size 640x480 with 1 Axes>"
      ]
     },
     "metadata": {},
     "output_type": "display_data"
    }
   ],
   "source": [
    "# Постройте график - число золотых медалей, выигранных мужчинами и женщинами из США в атлетике\n",
    "\n",
    "usa_athletics = df[(df['NOC'] == 'USA') & (df['Sport'] == 'Athletics')]\n",
    "usa_athletics_gold = usa_athletics[usa_athletics['Medal'] == 'Gold']\n",
    "usa_athletics_gold.groupby('Gender').size().plot(kind='bar')\n",
    "plt.title('Число золотых медалей в атлетике для мужчин и женщин из США в атлетике')"
   ]
  },
  {
   "cell_type": "code",
   "execution_count": null,
   "id": "655d2f78-b22a-43c7-996b-b5714b58897e",
   "metadata": {},
   "outputs": [],
   "source": []
  }
 ],
 "metadata": {
  "kernelspec": {
   "display_name": "Python 3 (ipykernel)",
   "language": "python",
   "name": "python3"
  },
  "language_info": {
   "codemirror_mode": {
    "name": "ipython",
    "version": 3
   },
   "file_extension": ".py",
   "mimetype": "text/x-python",
   "name": "python",
   "nbconvert_exporter": "python",
   "pygments_lexer": "ipython3",
   "version": "3.11.8"
  }
 },
 "nbformat": 4,
 "nbformat_minor": 5
}
